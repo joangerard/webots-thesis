{
 "cells": [
  {
   "cell_type": "markdown",
   "metadata": {},
   "source": [
    "# Statistical Analysis of Data\n",
    "\n",
    "## Environment Settings\n",
    "\n",
    "An statistical Analysis of the data captured will be performed.\n",
    "\n",
    "The environment configuration is the following:\n",
    "\n",
    "- A rectangle area is used whose dimension is 2 x 1.5 meters. \n",
    "- A custom robot similar to an epuck was used.\n",
    "- The robot starts in the middle of the arena.\n",
    "- The robot moves in a random fashion way around the environment avoiding obstacles.\n",
    "- The robot has 8 sensors that measure the distance between the robot and the walls.\n",
    "- Some noise was introduced in the sensors measurements of the robot using the concept of [lookup tables](https://cyberbotics.com/doc/reference/distancesensor) in the Webots simulator which according to Webots documentation \"The first column of the table specifies the input distances, the second column specifies the corresponding desired response values, and the third column indicates the desired standard deviation of the noise. The noise on the return value is computed according to a gaussian random number distribution whose range is calculated as a percent of the response value (two times the standard deviation is often referred to as the signal quality)\". The following values were taken:\n",
    "    -Second experiment:\n",
    "        - (0, 0, 0.2)\n",
    "        - (10, 10, 0.2)\n",
    "- The simulator runs during 10 minutes in fast mode which is translated into 12 hours of collected data."
   ]
  },
  {
   "cell_type": "code",
   "execution_count": 10,
   "metadata": {},
   "outputs": [
    {
     "name": "stdout",
     "output_type": "stream",
     "text": [
      "Requirement already satisfied: scikit-learn in /usr/local/lib/python3.7/site-packages (0.22)\n",
      "Requirement already satisfied: numpy>=1.11.0 in /usr/local/lib/python3.7/site-packages (from scikit-learn) (1.16.1)\n",
      "Requirement already satisfied: scipy>=0.17.0 in /Users/sebastiangerard/Library/Python/3.7/lib/python/site-packages (from scikit-learn) (1.4.1)\n",
      "Requirement already satisfied: joblib>=0.11 in /usr/local/lib/python3.7/site-packages (from scikit-learn) (0.14.1)\n",
      "Requirement already satisfied: keras in /usr/local/lib/python3.7/site-packages (2.3.1)\n",
      "Requirement already satisfied: keras-applications>=1.0.6 in /Users/sebastiangerard/Library/Python/3.7/lib/python/site-packages (from keras) (1.0.8)\n",
      "Requirement already satisfied: pyyaml in /usr/local/lib/python3.7/site-packages (from keras) (5.2)\n",
      "Requirement already satisfied: keras-preprocessing>=1.0.5 in /Users/sebastiangerard/Library/Python/3.7/lib/python/site-packages (from keras) (1.1.0)\n",
      "Requirement already satisfied: six>=1.9.0 in /usr/local/lib/python3.7/site-packages (from keras) (1.12.0)\n",
      "Requirement already satisfied: h5py in /Users/sebastiangerard/Library/Python/3.7/lib/python/site-packages (from keras) (2.9.0)\n",
      "Requirement already satisfied: numpy>=1.9.1 in /usr/local/lib/python3.7/site-packages (from keras) (1.16.1)\n",
      "Requirement already satisfied: scipy>=0.14 in /Users/sebastiangerard/Library/Python/3.7/lib/python/site-packages (from keras) (1.4.1)\n"
     ]
    }
   ],
   "source": [
    "# Install a pip package in the current Jupyter kernel\n",
    "import sys\n",
    "!{sys.executable} -m pip install scikit-learn\n",
    "!{sys.executable} -m pip install keras\n",
    "\n",
    "import pandas as pd\n",
    "import tensorflow as tf\n",
    "import numpy as np\n",
    "import math\n",
    "from sklearn.ensemble import RandomForestRegressor\n",
    "from keras import models\n",
    "from keras import layers\n",
    "from keras import regularizers\n",
    "import matplotlib.pyplot as plt\n",
    "from keras import optimizers"
   ]
  },
  {
   "cell_type": "code",
   "execution_count": 11,
   "metadata": {},
   "outputs": [
    {
     "data": {
      "text/html": [
       "<div>\n",
       "<style scoped>\n",
       "    .dataframe tbody tr th:only-of-type {\n",
       "        vertical-align: middle;\n",
       "    }\n",
       "\n",
       "    .dataframe tbody tr th {\n",
       "        vertical-align: top;\n",
       "    }\n",
       "\n",
       "    .dataframe thead th {\n",
       "        text-align: right;\n",
       "    }\n",
       "</style>\n",
       "<table border=\"1\" class=\"dataframe\">\n",
       "  <thead>\n",
       "    <tr style=\"text-align: right;\">\n",
       "      <th></th>\n",
       "      <th>Unnamed: 0</th>\n",
       "      <th>x</th>\n",
       "      <th>y</th>\n",
       "      <th>theta</th>\n",
       "      <th>dx</th>\n",
       "      <th>dy</th>\n",
       "      <th>dtheta</th>\n",
       "      <th>sensor_1</th>\n",
       "      <th>sensor_2</th>\n",
       "      <th>sensor_3</th>\n",
       "      <th>...</th>\n",
       "      <th>sensor_7</th>\n",
       "      <th>sensor_8</th>\n",
       "      <th>dsensor_1</th>\n",
       "      <th>dsensor_2</th>\n",
       "      <th>dsensor_3</th>\n",
       "      <th>dsensor_4</th>\n",
       "      <th>dsensor_5</th>\n",
       "      <th>dsensor_6</th>\n",
       "      <th>dsensor_7</th>\n",
       "      <th>dsensor_8</th>\n",
       "    </tr>\n",
       "  </thead>\n",
       "  <tbody>\n",
       "    <tr>\n",
       "      <th>0</th>\n",
       "      <td>0</td>\n",
       "      <td>1.050733</td>\n",
       "      <td>1.094226</td>\n",
       "      <td>308.240738</td>\n",
       "      <td>0.059450</td>\n",
       "      <td>0.344226</td>\n",
       "      <td>128.240516</td>\n",
       "      <td>1.061660</td>\n",
       "      <td>1.289745</td>\n",
       "      <td>0.990510</td>\n",
       "      <td>...</td>\n",
       "      <td>1.000384</td>\n",
       "      <td>1.083896</td>\n",
       "      <td>NaN</td>\n",
       "      <td>NaN</td>\n",
       "      <td>NaN</td>\n",
       "      <td>NaN</td>\n",
       "      <td>NaN</td>\n",
       "      <td>NaN</td>\n",
       "      <td>NaN</td>\n",
       "      <td>NaN</td>\n",
       "    </tr>\n",
       "    <tr>\n",
       "      <th>1</th>\n",
       "      <td>1</td>\n",
       "      <td>1.052836</td>\n",
       "      <td>1.093243</td>\n",
       "      <td>311.136141</td>\n",
       "      <td>0.002103</td>\n",
       "      <td>-0.000982</td>\n",
       "      <td>2.895403</td>\n",
       "      <td>1.129972</td>\n",
       "      <td>1.214009</td>\n",
       "      <td>1.135844</td>\n",
       "      <td>...</td>\n",
       "      <td>0.993033</td>\n",
       "      <td>1.009313</td>\n",
       "      <td>0.068312</td>\n",
       "      <td>-0.075736</td>\n",
       "      <td>0.145334</td>\n",
       "      <td>0.327937</td>\n",
       "      <td>0.133375</td>\n",
       "      <td>0.140812</td>\n",
       "      <td>-0.007352</td>\n",
       "      <td>-0.074582</td>\n",
       "    </tr>\n",
       "    <tr>\n",
       "      <th>2</th>\n",
       "      <td>2</td>\n",
       "      <td>1.054507</td>\n",
       "      <td>1.091473</td>\n",
       "      <td>315.074322</td>\n",
       "      <td>0.001672</td>\n",
       "      <td>-0.001770</td>\n",
       "      <td>3.938181</td>\n",
       "      <td>1.185616</td>\n",
       "      <td>1.131318</td>\n",
       "      <td>1.019394</td>\n",
       "      <td>...</td>\n",
       "      <td>0.956272</td>\n",
       "      <td>0.944564</td>\n",
       "      <td>0.055645</td>\n",
       "      <td>-0.082692</td>\n",
       "      <td>-0.116450</td>\n",
       "      <td>0.110155</td>\n",
       "      <td>0.029906</td>\n",
       "      <td>-0.014191</td>\n",
       "      <td>-0.036761</td>\n",
       "      <td>-0.064750</td>\n",
       "    </tr>\n",
       "    <tr>\n",
       "      <th>3</th>\n",
       "      <td>3</td>\n",
       "      <td>1.056316</td>\n",
       "      <td>1.089796</td>\n",
       "      <td>319.070072</td>\n",
       "      <td>0.001809</td>\n",
       "      <td>-0.001677</td>\n",
       "      <td>3.995750</td>\n",
       "      <td>1.098113</td>\n",
       "      <td>1.103999</td>\n",
       "      <td>1.094631</td>\n",
       "      <td>...</td>\n",
       "      <td>0.881076</td>\n",
       "      <td>1.000029</td>\n",
       "      <td>-0.087503</td>\n",
       "      <td>-0.027318</td>\n",
       "      <td>0.075237</td>\n",
       "      <td>0.054568</td>\n",
       "      <td>-0.004316</td>\n",
       "      <td>-0.045687</td>\n",
       "      <td>-0.075196</td>\n",
       "      <td>0.055465</td>\n",
       "    </tr>\n",
       "    <tr>\n",
       "      <th>4</th>\n",
       "      <td>4</td>\n",
       "      <td>1.058129</td>\n",
       "      <td>1.088026</td>\n",
       "      <td>323.456321</td>\n",
       "      <td>0.001812</td>\n",
       "      <td>-0.001770</td>\n",
       "      <td>4.386249</td>\n",
       "      <td>1.327904</td>\n",
       "      <td>1.104746</td>\n",
       "      <td>1.123384</td>\n",
       "      <td>...</td>\n",
       "      <td>0.842176</td>\n",
       "      <td>0.892464</td>\n",
       "      <td>0.229791</td>\n",
       "      <td>0.000746</td>\n",
       "      <td>0.028753</td>\n",
       "      <td>-0.037511</td>\n",
       "      <td>0.034774</td>\n",
       "      <td>-0.001614</td>\n",
       "      <td>-0.038900</td>\n",
       "      <td>-0.107565</td>\n",
       "    </tr>\n",
       "  </tbody>\n",
       "</table>\n",
       "<p>5 rows × 23 columns</p>\n",
       "</div>"
      ],
      "text/plain": [
       "   Unnamed: 0         x         y       theta        dx        dy      dtheta  \\\n",
       "0           0  1.050733  1.094226  308.240738  0.059450  0.344226  128.240516   \n",
       "1           1  1.052836  1.093243  311.136141  0.002103 -0.000982    2.895403   \n",
       "2           2  1.054507  1.091473  315.074322  0.001672 -0.001770    3.938181   \n",
       "3           3  1.056316  1.089796  319.070072  0.001809 -0.001677    3.995750   \n",
       "4           4  1.058129  1.088026  323.456321  0.001812 -0.001770    4.386249   \n",
       "\n",
       "   sensor_1  sensor_2  sensor_3    ...      sensor_7  sensor_8  dsensor_1  \\\n",
       "0  1.061660  1.289745  0.990510    ...      1.000384  1.083896        NaN   \n",
       "1  1.129972  1.214009  1.135844    ...      0.993033  1.009313   0.068312   \n",
       "2  1.185616  1.131318  1.019394    ...      0.956272  0.944564   0.055645   \n",
       "3  1.098113  1.103999  1.094631    ...      0.881076  1.000029  -0.087503   \n",
       "4  1.327904  1.104746  1.123384    ...      0.842176  0.892464   0.229791   \n",
       "\n",
       "   dsensor_2  dsensor_3  dsensor_4  dsensor_5  dsensor_6  dsensor_7  dsensor_8  \n",
       "0        NaN        NaN        NaN        NaN        NaN        NaN        NaN  \n",
       "1  -0.075736   0.145334   0.327937   0.133375   0.140812  -0.007352  -0.074582  \n",
       "2  -0.082692  -0.116450   0.110155   0.029906  -0.014191  -0.036761  -0.064750  \n",
       "3  -0.027318   0.075237   0.054568  -0.004316  -0.045687  -0.075196   0.055465  \n",
       "4   0.000746   0.028753  -0.037511   0.034774  -0.001614  -0.038900  -0.107565  \n",
       "\n",
       "[5 rows x 23 columns]"
      ]
     },
     "execution_count": 11,
     "metadata": {},
     "output_type": "execute_result"
    }
   ],
   "source": [
    "csv_file = 'robot_info_dataset.csv'\n",
    "df = pd.read_csv(csv_file)\n",
    "df.head()"
   ]
  },
  {
   "cell_type": "markdown",
   "metadata": {},
   "source": [
    "## Data pre-processing"
   ]
  },
  {
   "cell_type": "markdown",
   "metadata": {},
   "source": [
    "The data collected 1384848 samples."
   ]
  },
  {
   "cell_type": "code",
   "execution_count": 12,
   "metadata": {},
   "outputs": [
    {
     "data": {
      "text/plain": [
       "(1125965, 23)"
      ]
     },
     "execution_count": 12,
     "metadata": {},
     "output_type": "execute_result"
    }
   ],
   "source": [
    "df.shape"
   ]
  },
  {
   "cell_type": "markdown",
   "metadata": {},
   "source": [
    "The data set contains some null values so they should be deleted from the samples."
   ]
  },
  {
   "cell_type": "code",
   "execution_count": 13,
   "metadata": {},
   "outputs": [],
   "source": [
    "df = df.dropna()"
   ]
  },
  {
   "cell_type": "markdown",
   "metadata": {},
   "source": [
    "## Input and output variables"
   ]
  },
  {
   "cell_type": "markdown",
   "metadata": {},
   "source": [
    "The data will be split into training, testing and validation sets. 60% of the data will be used for training, 20% for training and 20% of validation."
   ]
  },
  {
   "cell_type": "code",
   "execution_count": 21,
   "metadata": {},
   "outputs": [],
   "source": [
    "# train size\n",
    "test_size_percentage = .2\n",
    "train_size_percentage = .8\n",
    "ds_size = df.shape[0]\n",
    "train_size = int(train_size_percentage * ds_size)\n",
    "test_size = int(test_size_percentage * ds_size)\n",
    "\n",
    "# shuffle dataset\n",
    "sampled_df = df.sample(frac=1)\n",
    "\n",
    "# separate inputs from outputs\n",
    "inputs = sampled_df[['sensor_1', 'sensor_2', 'sensor_3', 'sensor_4', 'sensor_5', 'sensor_6', 'sensor_7', 'sensor_8']]\n",
    "targets = sampled_df[['x', 'y']]\n",
    "targets_angle = sampled_df[['theta']]\n",
    "\n",
    "# train\n",
    "train_inputs = inputs[:train_size]\n",
    "train_targets = targets[:train_size]\n",
    "\n",
    "# test\n",
    "test_inputs = inputs[train_size:(train_size + test_size)]\n",
    "test_targets = targets[train_size:(train_size + test_size)]"
   ]
  },
  {
   "cell_type": "markdown",
   "metadata": {},
   "source": [
    "## Neural Network\n"
   ]
  },
  {
   "cell_type": "markdown",
   "metadata": {},
   "source": [
    "As input the neural network receives the sensor measurements as input and the target are the x, y, $\\theta$ coordinates."
   ]
  },
  {
   "cell_type": "code",
   "execution_count": 29,
   "metadata": {},
   "outputs": [],
   "source": [
    "\n",
    "def get_model(output):\n",
    "    # neural network with a 10-neuron hidden layer\n",
    "    model = models.Sequential()\n",
    "    model.add(layers.Dense(16, activation='relu', input_shape=(8,)))\n",
    "#     model.add(layers.Dense(32, activation='relu'))\n",
    "#     model.add(layers.Dense(64, activation='relu'))\n",
    "#     model.add(layers.Dense(16, activation='relu'))\n",
    "    model.add(layers.Dense(output))\n",
    "    \n",
    "#     rmsprop = optimizers.RMSprop(learning_rate=0.01)\n",
    "    model.compile(optimizer='rmsprop', loss='mse', metrics=['mae'])\n",
    "              \n",
    "    return model"
   ]
  },
  {
   "cell_type": "code",
   "execution_count": 16,
   "metadata": {},
   "outputs": [],
   "source": [
    "def k_fold(num_epochs=10, k=5):\n",
    "    num_val_samples = len(train_inputs) // k\n",
    "    validation_scores = []\n",
    "    histories = []\n",
    "    nmse = []\n",
    "\n",
    "    for i in range(k):\n",
    "        print('processing fold #', i)\n",
    "        val_data = train_inputs[i * num_val_samples: (i + 1) * num_val_samples]\n",
    "        val_targets = train_targets[i * num_val_samples: (i + 1) * num_val_samples]\n",
    "\n",
    "        partial_train_data = np.concatenate(\n",
    "            [train_inputs[:i * num_val_samples],\n",
    "             train_inputs[(i + 1) * num_val_samples:]], axis=0)\n",
    "        partial_train_targets = np.concatenate(\n",
    "            [train_targets[:i * num_val_samples],\n",
    "             train_targets[(i + 1) * num_val_samples:]], axis=0)\n",
    "\n",
    "\n",
    "        model = get_model()\n",
    "\n",
    "        history = model.fit(partial_train_data, partial_train_targets,\n",
    "                            validation_data=(val_data, val_targets),\n",
    "                            epochs=num_epochs, batch_size=64, verbose=1)\n",
    "        histories.append(history.history)\n",
    "\n",
    "        predictions_targets = model.predict(val_data)\n",
    "        nmse.append(np.mean((predictions_targets - val_targets)**2)/np.var(val_targets))\n",
    "        \n",
    "    return histories, nmse"
   ]
  },
  {
   "cell_type": "code",
   "execution_count": null,
   "metadata": {},
   "outputs": [],
   "source": [
    "histories, nmse = k_fold(70, 3)"
   ]
  },
  {
   "cell_type": "code",
   "execution_count": 29,
   "metadata": {},
   "outputs": [
    {
     "name": "stdout",
     "output_type": "stream",
     "text": [
      "NMSE: \n",
      "0.98276360853308\n"
     ]
    },
    {
     "data": {
      "image/png": "[encoded data removed]",
      "text/plain": [
       "<Figure size 432x288 with 1 Axes>"
      ]
     },
     "metadata": {
      "needs_background": "light"
     },
     "output_type": "display_data"
    }
   ],
   "source": [
    "print(\"NMSE: \")\n",
    "print(np.mean(nmse))\n",
    "\n",
    "num_epochs = 150\n",
    "val_mae_history = [np.mean([x['val_mae'][i] for x in histories]) for i in range(num_epochs)]\n",
    "mae_history = [np.mean([x['mae'][i] for x in histories]) for i in range(num_epochs)]\n",
    "plt.plot(range(3, len(val_mae_history) + 1), val_mae_history[2:], 'ro')\n",
    "plt.plot(range(3, len(mae_history) + 1), mae_history[2:], 'bo')\n",
    "plt.xlabel('Epochs')\n",
    "plt.ylabel('MAE')\n",
    "plt.legend(['test', 'train'], loc='upper left')\n",
    "plt.show()"
   ]
  },
  {
   "cell_type": "code",
   "execution_count": 30,
   "metadata": {},
   "outputs": [
    {
     "data": {
      "image/png": "[encoded data removed]",
      "text/plain": [
       "<Figure size 432x288 with 1 Axes>"
      ]
     },
     "metadata": {
      "needs_background": "light"
     },
     "output_type": "display_data"
    }
   ],
   "source": [
    "val_loss_history = [np.mean([x['val_loss'][i] for x in histories]) for i in range(num_epochs)]\n",
    "loss_history = [np.mean([x['loss'][i] for x in histories]) for i in range(num_epochs)]\n",
    "plt.plot(range(1, len(val_loss_history) + 1), val_loss_history, 'ro')\n",
    "plt.plot(range(1, len(loss_history) + 1), loss_history, 'bo')\n",
    "plt.xlabel('Epochs')\n",
    "plt.ylabel('LOSS')\n",
    "plt.legend(['test', 'train'], loc='upper left')\n",
    "plt.show()"
   ]
  },
  {
   "cell_type": "code",
   "execution_count": 31,
   "metadata": {},
   "outputs": [
    {
     "name": "stdout",
     "output_type": "stream",
     "text": [
      "Epoch 1/10\n",
      "1125964/1125964 [==============================] - 74s 66us/step - loss: 0.2017 - mae: 0.3829\n",
      "Epoch 2/10\n",
      "1125964/1125964 [==============================] - 70s 62us/step - loss: 0.1987 - mae: 0.3813\n",
      "Epoch 3/10\n",
      "1125964/1125964 [==============================] - 94s 84us/step - loss: 0.1986 - mae: 0.3812 0s - loss: 0.1986 \n",
      "Epoch 4/10\n",
      "1125964/1125964 [==============================] - 93s 82us/step - loss: 0.1985 - mae: 0.3812\n",
      "Epoch 5/10\n",
      "1125964/1125964 [==============================] - 85s 76us/step - loss: 0.1985 - mae: 0.3812\n",
      "Epoch 6/10\n",
      "1125964/1125964 [==============================] - 93s 82us/step - loss: 0.1985 - mae: 0.3812\n",
      "Epoch 7/10\n",
      "1125964/1125964 [==============================] - 94s 84us/step - loss: 0.1985 - mae: 0.3812\n",
      "Epoch 8/10\n",
      "1125964/1125964 [==============================] - 86s 76us/step - loss: 0.1985 - mae: 0.3812\n",
      "Epoch 9/10\n",
      "1125964/1125964 [==============================] - 93s 83us/step - loss: 0.1985 - mae: 0.3812\n",
      "Epoch 10/10\n",
      "1125964/1125964 [==============================] - 96s 85us/step - loss: 0.1985 - mae: 0.3812\n"
     ]
    }
   ],
   "source": [
    "model = get_model(2)\n",
    "\n",
    "history = model.fit(inputs, targets, epochs=10, batch_size=32, verbose=1)\n",
    "history.history['mae']\n",
    "model.save(\"nn_sensor_reverse_dist.h5\")"
   ]
  },
  {
   "cell_type": "code",
   "execution_count": 30,
   "metadata": {},
   "outputs": [
    {
     "name": "stdout",
     "output_type": "stream",
     "text": [
      "Epoch 1/70\n",
      "1125964/1125964 [==============================] - 41s 36us/step - loss: 12019.6614 - mae: 94.5960\n",
      "Epoch 2/70\n",
      "1125964/1125964 [==============================] - 51s 46us/step - loss: 10439.6409 - mae: 91.1809\n",
      "Epoch 3/70\n",
      "1125964/1125964 [==============================] - 48s 42us/step - loss: 10267.2820 - mae: 91.0652\n",
      "Epoch 4/70\n",
      "1125964/1125964 [==============================] - 45s 40us/step - loss: 10197.9572 - mae: 91.0328\n",
      "Epoch 5/70\n",
      "1125964/1125964 [==============================] - 46s 41us/step - loss: 10166.3950 - mae: 91.0221\n",
      "Epoch 6/70\n",
      "1125964/1125964 [==============================] - 36s 32us/step - loss: 10150.2998 - mae: 91.0223\n",
      "Epoch 7/70\n",
      "1125964/1125964 [==============================] - 36s 32us/step - loss: 10138.7229 - mae: 91.0126\n",
      "Epoch 8/70\n",
      "1125964/1125964 [==============================] - 33s 29us/step - loss: 10128.4303 - mae: 90.9991\n",
      "Epoch 9/70\n",
      "1125964/1125964 [==============================] - 40s 36us/step - loss: 10116.8459 - mae: 90.9737\n",
      "Epoch 10/70\n",
      "1125964/1125964 [==============================] - 44s 39us/step - loss: 10114.0727 - mae: 90.9767\n",
      "Epoch 11/70\n",
      "1125964/1125964 [==============================] - 42s 38us/step - loss: 10108.9047 - mae: 90.9615\n",
      "Epoch 12/70\n",
      "1125964/1125964 [==============================] - 40s 35us/step - loss: 10103.7212 - mae: 90.95691s - ETA: 0s - loss: 10103.9429 - mae: 9\n",
      "Epoch 13/70\n",
      "1125964/1125964 [==============================] - 43s 38us/step - loss: 10097.2446 - mae: 90.9444\n",
      "Epoch 14/70\n",
      "1125964/1125964 [==============================] - 53s 47us/step - loss: 10095.3288 - mae: 90.9412\n",
      "Epoch 15/70\n",
      "1125964/1125964 [==============================] - 42s 37us/step - loss: 10089.9824 - mae: 90.9293\n",
      "Epoch 16/70\n",
      "1125964/1125964 [==============================] - 44s 39us/step - loss: 10079.9824 - mae: 90.9099\n",
      "Epoch 17/70\n",
      "1125964/1125964 [==============================] - 42s 38us/step - loss: 9989.1654 - mae: 90.8224 0s - loss: 9991.2854 - mae: \n",
      "Epoch 18/70\n",
      "1125964/1125964 [==============================] - 42s 38us/step - loss: 9879.9171 - mae: 90.7326\n",
      "Epoch 19/70\n",
      "1125964/1125964 [==============================] - 38s 34us/step - loss: 9823.6728 - mae: 90.6992 0s - loss: 9821.26\n",
      "Epoch 20/70\n",
      "1125964/1125964 [==============================] - 41s 36us/step - loss: 9790.3855 - mae: 90.6869 0s - loss: 9791.2948 \n",
      "Epoch 21/70\n",
      "1125964/1125964 [==============================] - 40s 35us/step - loss: 9766.6665 - mae: 90.6800\n",
      "Epoch 22/70\n",
      "1125964/1125964 [==============================] - 49s 44us/step - loss: 9748.5134 - mae: 90.6794\n",
      "Epoch 23/70\n",
      "1125964/1125964 [==============================] - 50s 44us/step - loss: 9731.2681 - mae: 90.6717\n",
      "Epoch 24/70\n",
      "1125964/1125964 [==============================] - 47s 42us/step - loss: 9703.4969 - mae: 90.6446\n",
      "Epoch 25/70\n",
      "1125964/1125964 [==============================] - 46s 41us/step - loss: 9674.7687 - mae: 90.6210\n",
      "Epoch 26/70\n",
      "1125964/1125964 [==============================] - 48s 42us/step - loss: 9646.5667 - mae: 90.6083 ETA - ETA: 1s - l\n",
      "Epoch 27/70\n",
      "1125964/1125964 [==============================] - 47s 42us/step - loss: 9617.6835 - mae: 90.5952\n",
      "Epoch 28/70\n",
      "1125964/1125964 [==============================] - 41s 37us/step - loss: 9585.6386 - mae: 90.5767\n",
      "Epoch 29/70\n",
      "1125964/1125964 [==============================] - 47s 41us/step - loss: 9556.8891 - mae: 90.5625\n",
      "Epoch 30/70\n",
      "1125964/1125964 [==============================] - 51s 45us/step - loss: 9526.4231 - mae: 90.5369\n",
      "Epoch 31/70\n",
      "1125964/1125964 [==============================] - 46s 41us/step - loss: 9492.9151 - mae: 90.5066\n",
      "Epoch 32/70\n",
      "1125964/1125964 [==============================] - 40s 35us/step - loss: 9466.7066 - mae: 90.4805 1s - \n",
      "Epoch 33/70\n",
      "1125964/1125964 [==============================] - 39s 35us/step - loss: 9445.7870 - mae: 90.4680\n",
      "Epoch 34/70\n",
      " 594176/1125964 [==============>...............] - ETA: 17s - loss: 9438.5807 - mae: 90.4730"
     ]
    },
    {
     "ename": "KeyboardInterrupt",
     "evalue": "",
     "output_type": "error",
     "traceback": [
      "\u001b[0;31m---------------------------------------------------------------------------\u001b[0m",
      "\u001b[0;31mKeyboardInterrupt\u001b[0m                         Traceback (most recent call last)",
      "\u001b[0;32m<ipython-input-30-bda116acaf40>\u001b[0m in \u001b[0;36m<module>\u001b[0;34m\u001b[0m\n\u001b[1;32m      1\u001b[0m \u001b[0mmodel\u001b[0m \u001b[0;34m=\u001b[0m \u001b[0mget_model\u001b[0m\u001b[0;34m(\u001b[0m\u001b[0;36m1\u001b[0m\u001b[0;34m)\u001b[0m\u001b[0;34m\u001b[0m\u001b[0;34m\u001b[0m\u001b[0m\n\u001b[1;32m      2\u001b[0m \u001b[0;34m\u001b[0m\u001b[0m\n\u001b[0;32m----> 3\u001b[0;31m \u001b[0mhistory\u001b[0m \u001b[0;34m=\u001b[0m \u001b[0mmodel\u001b[0m\u001b[0;34m.\u001b[0m\u001b[0mfit\u001b[0m\u001b[0;34m(\u001b[0m\u001b[0minputs\u001b[0m\u001b[0;34m,\u001b[0m \u001b[0mtargets_angle\u001b[0m\u001b[0;34m,\u001b[0m \u001b[0mepochs\u001b[0m\u001b[0;34m=\u001b[0m\u001b[0;36m70\u001b[0m\u001b[0;34m,\u001b[0m \u001b[0mbatch_size\u001b[0m\u001b[0;34m=\u001b[0m\u001b[0;36m64\u001b[0m\u001b[0;34m,\u001b[0m \u001b[0mverbose\u001b[0m\u001b[0;34m=\u001b[0m\u001b[0;36m1\u001b[0m\u001b[0;34m)\u001b[0m\u001b[0;34m\u001b[0m\u001b[0;34m\u001b[0m\u001b[0m\n\u001b[0m\u001b[1;32m      4\u001b[0m \u001b[0mhistory\u001b[0m\u001b[0;34m.\u001b[0m\u001b[0mhistory\u001b[0m\u001b[0;34m[\u001b[0m\u001b[0;34m'mae'\u001b[0m\u001b[0;34m]\u001b[0m\u001b[0;34m\u001b[0m\u001b[0;34m\u001b[0m\u001b[0m\n\u001b[1;32m      5\u001b[0m \u001b[0mmodel\u001b[0m\u001b[0;34m.\u001b[0m\u001b[0msave\u001b[0m\u001b[0;34m(\u001b[0m\u001b[0;34m\"nn_sensor_reverse_angle.h5\"\u001b[0m\u001b[0;34m)\u001b[0m\u001b[0;34m\u001b[0m\u001b[0;34m\u001b[0m\u001b[0m\n",
      "\u001b[0;32m/usr/local/lib/python3.7/site-packages/keras/engine/training.py\u001b[0m in \u001b[0;36mfit\u001b[0;34m(self, x, y, batch_size, epochs, verbose, callbacks, validation_split, validation_data, shuffle, class_weight, sample_weight, initial_epoch, steps_per_epoch, validation_steps, validation_freq, max_queue_size, workers, use_multiprocessing, **kwargs)\u001b[0m\n\u001b[1;32m   1237\u001b[0m                                         \u001b[0msteps_per_epoch\u001b[0m\u001b[0;34m=\u001b[0m\u001b[0msteps_per_epoch\u001b[0m\u001b[0;34m,\u001b[0m\u001b[0;34m\u001b[0m\u001b[0;34m\u001b[0m\u001b[0m\n\u001b[1;32m   1238\u001b[0m                                         \u001b[0mvalidation_steps\u001b[0m\u001b[0;34m=\u001b[0m\u001b[0mvalidation_steps\u001b[0m\u001b[0;34m,\u001b[0m\u001b[0;34m\u001b[0m\u001b[0;34m\u001b[0m\u001b[0m\n\u001b[0;32m-> 1239\u001b[0;31m                                         validation_freq=validation_freq)\n\u001b[0m\u001b[1;32m   1240\u001b[0m \u001b[0;34m\u001b[0m\u001b[0m\n\u001b[1;32m   1241\u001b[0m     def evaluate(self,\n",
      "\u001b[0;32m/usr/local/lib/python3.7/site-packages/keras/engine/training_arrays.py\u001b[0m in \u001b[0;36mfit_loop\u001b[0;34m(model, fit_function, fit_inputs, out_labels, batch_size, epochs, verbose, callbacks, val_function, val_inputs, shuffle, initial_epoch, steps_per_epoch, validation_steps, validation_freq)\u001b[0m\n\u001b[1;32m    194\u001b[0m                     \u001b[0mins_batch\u001b[0m\u001b[0;34m[\u001b[0m\u001b[0mi\u001b[0m\u001b[0;34m]\u001b[0m \u001b[0;34m=\u001b[0m \u001b[0mins_batch\u001b[0m\u001b[0;34m[\u001b[0m\u001b[0mi\u001b[0m\u001b[0;34m]\u001b[0m\u001b[0;34m.\u001b[0m\u001b[0mtoarray\u001b[0m\u001b[0;34m(\u001b[0m\u001b[0;34m)\u001b[0m\u001b[0;34m\u001b[0m\u001b[0;34m\u001b[0m\u001b[0m\n\u001b[1;32m    195\u001b[0m \u001b[0;34m\u001b[0m\u001b[0m\n\u001b[0;32m--> 196\u001b[0;31m                 \u001b[0mouts\u001b[0m \u001b[0;34m=\u001b[0m \u001b[0mfit_function\u001b[0m\u001b[0;34m(\u001b[0m\u001b[0mins_batch\u001b[0m\u001b[0;34m)\u001b[0m\u001b[0;34m\u001b[0m\u001b[0;34m\u001b[0m\u001b[0m\n\u001b[0m\u001b[1;32m    197\u001b[0m                 \u001b[0mouts\u001b[0m \u001b[0;34m=\u001b[0m \u001b[0mto_list\u001b[0m\u001b[0;34m(\u001b[0m\u001b[0mouts\u001b[0m\u001b[0;34m)\u001b[0m\u001b[0;34m\u001b[0m\u001b[0;34m\u001b[0m\u001b[0m\n\u001b[1;32m    198\u001b[0m                 \u001b[0;32mfor\u001b[0m \u001b[0ml\u001b[0m\u001b[0;34m,\u001b[0m \u001b[0mo\u001b[0m \u001b[0;32min\u001b[0m \u001b[0mzip\u001b[0m\u001b[0;34m(\u001b[0m\u001b[0mout_labels\u001b[0m\u001b[0;34m,\u001b[0m \u001b[0mouts\u001b[0m\u001b[0;34m)\u001b[0m\u001b[0;34m:\u001b[0m\u001b[0;34m\u001b[0m\u001b[0;34m\u001b[0m\u001b[0m\n",
      "\u001b[0;32m/usr/local/lib/python3.7/site-packages/tensorflow/python/keras/backend.py\u001b[0m in \u001b[0;36m__call__\u001b[0;34m(self, inputs)\u001b[0m\n\u001b[1;32m   3035\u001b[0m     \u001b[0minputs\u001b[0m \u001b[0;34m=\u001b[0m \u001b[0mnest\u001b[0m\u001b[0;34m.\u001b[0m\u001b[0mflatten\u001b[0m\u001b[0;34m(\u001b[0m\u001b[0minputs\u001b[0m\u001b[0;34m)\u001b[0m\u001b[0;34m\u001b[0m\u001b[0;34m\u001b[0m\u001b[0m\n\u001b[1;32m   3036\u001b[0m \u001b[0;34m\u001b[0m\u001b[0m\n\u001b[0;32m-> 3037\u001b[0;31m     \u001b[0msession\u001b[0m \u001b[0;34m=\u001b[0m \u001b[0mget_session\u001b[0m\u001b[0;34m(\u001b[0m\u001b[0;34m)\u001b[0m\u001b[0;34m\u001b[0m\u001b[0;34m\u001b[0m\u001b[0m\n\u001b[0m\u001b[1;32m   3038\u001b[0m     \u001b[0mfeed_arrays\u001b[0m \u001b[0;34m=\u001b[0m \u001b[0;34m[\u001b[0m\u001b[0;34m]\u001b[0m\u001b[0;34m\u001b[0m\u001b[0;34m\u001b[0m\u001b[0m\n\u001b[1;32m   3039\u001b[0m     \u001b[0marray_vals\u001b[0m \u001b[0;34m=\u001b[0m \u001b[0;34m[\u001b[0m\u001b[0;34m]\u001b[0m\u001b[0;34m\u001b[0m\u001b[0;34m\u001b[0m\u001b[0m\n",
      "\u001b[0;32m/usr/local/lib/python3.7/site-packages/tensorflow/python/keras/backend.py\u001b[0m in \u001b[0;36mget_session\u001b[0;34m()\u001b[0m\n\u001b[1;32m    480\u001b[0m   \u001b[0;32mif\u001b[0m \u001b[0;32mnot\u001b[0m \u001b[0m_MANUAL_VAR_INIT\u001b[0m\u001b[0;34m:\u001b[0m\u001b[0;34m\u001b[0m\u001b[0;34m\u001b[0m\u001b[0m\n\u001b[1;32m    481\u001b[0m     \u001b[0;32mwith\u001b[0m \u001b[0msession\u001b[0m\u001b[0;34m.\u001b[0m\u001b[0mgraph\u001b[0m\u001b[0;34m.\u001b[0m\u001b[0mas_default\u001b[0m\u001b[0;34m(\u001b[0m\u001b[0;34m)\u001b[0m\u001b[0;34m:\u001b[0m\u001b[0;34m\u001b[0m\u001b[0;34m\u001b[0m\u001b[0m\n\u001b[0;32m--> 482\u001b[0;31m       \u001b[0m_initialize_variables\u001b[0m\u001b[0;34m(\u001b[0m\u001b[0msession\u001b[0m\u001b[0;34m)\u001b[0m\u001b[0;34m\u001b[0m\u001b[0;34m\u001b[0m\u001b[0m\n\u001b[0m\u001b[1;32m    483\u001b[0m   \u001b[0;32mreturn\u001b[0m \u001b[0msession\u001b[0m\u001b[0;34m\u001b[0m\u001b[0;34m\u001b[0m\u001b[0m\n\u001b[1;32m    484\u001b[0m \u001b[0;34m\u001b[0m\u001b[0m\n",
      "\u001b[0;32m/usr/local/lib/python3.7/site-packages/tensorflow/python/keras/backend.py\u001b[0m in \u001b[0;36m_initialize_variables\u001b[0;34m(session)\u001b[0m\n\u001b[1;32m    749\u001b[0m   \u001b[0mvariables\u001b[0m \u001b[0;34m=\u001b[0m \u001b[0m_get_variables\u001b[0m\u001b[0;34m(\u001b[0m\u001b[0mget_graph\u001b[0m\u001b[0;34m(\u001b[0m\u001b[0;34m)\u001b[0m\u001b[0;34m)\u001b[0m\u001b[0;34m\u001b[0m\u001b[0;34m\u001b[0m\u001b[0m\n\u001b[1;32m    750\u001b[0m   \u001b[0mcandidate_vars\u001b[0m \u001b[0;34m=\u001b[0m \u001b[0;34m[\u001b[0m\u001b[0;34m]\u001b[0m\u001b[0;34m\u001b[0m\u001b[0;34m\u001b[0m\u001b[0m\n\u001b[0;32m--> 751\u001b[0;31m   \u001b[0;32mfor\u001b[0m \u001b[0mv\u001b[0m \u001b[0;32min\u001b[0m \u001b[0mvariables\u001b[0m\u001b[0;34m:\u001b[0m\u001b[0;34m\u001b[0m\u001b[0;34m\u001b[0m\u001b[0m\n\u001b[0m\u001b[1;32m    752\u001b[0m     \u001b[0;32mif\u001b[0m \u001b[0;32mnot\u001b[0m \u001b[0mgetattr\u001b[0m\u001b[0;34m(\u001b[0m\u001b[0mv\u001b[0m\u001b[0;34m,\u001b[0m \u001b[0;34m'_keras_initialized'\u001b[0m\u001b[0;34m,\u001b[0m \u001b[0;32mFalse\u001b[0m\u001b[0;34m)\u001b[0m\u001b[0;34m:\u001b[0m\u001b[0;34m\u001b[0m\u001b[0;34m\u001b[0m\u001b[0m\n\u001b[1;32m    753\u001b[0m       \u001b[0mcandidate_vars\u001b[0m\u001b[0;34m.\u001b[0m\u001b[0mappend\u001b[0m\u001b[0;34m(\u001b[0m\u001b[0mv\u001b[0m\u001b[0;34m)\u001b[0m\u001b[0;34m\u001b[0m\u001b[0;34m\u001b[0m\u001b[0m\n",
      "\u001b[0;31mKeyboardInterrupt\u001b[0m: "
     ]
    }
   ],
   "source": [
    "model = get_model(1)\n",
    "\n",
    "history = model.fit(inputs, targets_angle, epochs=70, batch_size=64, verbose=1)\n",
    "history.history['mae']\n",
    "model.save(\"nn_sensor_reverse_angle.h5\")"
   ]
  },
  {
   "cell_type": "code",
   "execution_count": null,
   "metadata": {},
   "outputs": [],
   "source": []
  }
 ],
 "metadata": {
  "kernelspec": {
   "display_name": "Python 3",
   "language": "python",
   "name": "python3"
  },
  "language_info": {
   "codemirror_mode": {
    "name": "ipython",
    "version": 3
   },
   "file_extension": ".py",
   "mimetype": "text/x-python",
   "name": "python",
   "nbconvert_exporter": "python",
   "pygments_lexer": "ipython3",
   "version": "3.7.3"
  }
 },
 "nbformat": 4,
 "nbformat_minor": 2
}
